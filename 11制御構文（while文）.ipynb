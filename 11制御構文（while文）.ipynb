{
  "nbformat": 4,
  "nbformat_minor": 0,
  "metadata": {
    "colab": {
      "provenance": [],
      "collapsed_sections": [],
      "authorship_tag": "ABX9TyP6oG6mH/eYZk8bygrm0ZeB",
      "include_colab_link": true
    },
    "kernelspec": {
      "name": "python3",
      "display_name": "Python 3"
    },
    "language_info": {
      "name": "python"
    }
  },
  "cells": [
    {
      "cell_type": "markdown",
      "metadata": {
        "id": "view-in-github",
        "colab_type": "text"
      },
      "source": [
        "<a href=\"https://colab.research.google.com/github/ngtmyshr/ngtmyshr.github.io/blob/main/11%E5%88%B6%E5%BE%A1%E6%A7%8B%E6%96%87%EF%BC%88while%E6%96%87%EF%BC%89.ipynb\" target=\"_parent\"><img src=\"https://colab.research.google.com/assets/colab-badge.svg\" alt=\"Open In Colab\"/></a>"
      ]
    },
    {
      "cell_type": "code",
      "execution_count": 5,
      "metadata": {
        "colab": {
          "base_uri": "https://localhost:8080/"
        },
        "id": "edokqBOpSCiv",
        "outputId": "9735e076-72e5-4ade-8c24-601c502683ec"
      },
      "outputs": [
        {
          "output_type": "stream",
          "name": "stdout",
          "text": [
            "残り 10 秒\n",
            "残り 9 秒\n",
            "残り 8 秒\n",
            "残り 7 秒\n",
            "残り 6 秒\n",
            "残り 5 秒\n",
            "残り 4 秒\n",
            "残り 3 秒\n",
            "残り 2 秒\n",
            "残り 1 秒\n",
            "end\n"
          ]
        }
      ],
      "source": [
        "time=10\n",
        "while time>0:\n",
        "  print(\"残り\",time,\"秒\")\n",
        "  time-=1\n",
        "print(\"end\")"
      ]
    }
  ]
}